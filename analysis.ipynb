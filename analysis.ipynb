{
 "cells": [
  {
   "cell_type": "markdown",
   "metadata": {},
   "source": [
    "# pandas exploration\n",
    "In this assignment you will select a data set and do some munging and analysis of it using `pandas`, Jupyter Notebooks, and associated Python-centric data science tools."
   ]
  },
  {
   "cell_type": "markdown",
   "metadata": {},
   "source": [
    "Import the core data science libraries:"
   ]
  },
  {
   "cell_type": "code",
   "execution_count": 129,
   "metadata": {},
   "outputs": [],
   "source": [
    "%matplotlib inline\n",
    "import matplotlib.pyplot as plt\n",
    "import numpy as np\n",
    "import pandas as pd\n",
    "\n"
   ]
  },
  {
   "cell_type": "markdown",
   "metadata": {},
   "source": [
    "## Import the raw data\n",
    "In this section, you will import the raw data into a `pandas` DataFrame."
   ]
  },
  {
   "cell_type": "code",
   "execution_count": 44,
   "metadata": {},
   "outputs": [],
   "source": [
    "file_path = \"data/computers.csv\"\n",
    "data = pd.read_csv(file_path)\n"
   ]
  },
  {
   "cell_type": "markdown",
   "metadata": {},
   "source": [
    "## Data inspection\n",
    "In this section, you will show enough of your data for a viewer to get a general sense of how the data is structured and any unique features of it.  Complete each of the indicated tasks in a Code cell, making sure to include a Markdown cell above each Code cell that explains what is being shown by the code.  \n",
    "- Show 5 rows, selected at random, from the data set.\n",
    "- Show each of the column names and their data types.\n",
    "- Show any unique features of your chosen data set.\n",
    "\n",
    "Feel free to add as many additional cells as you need to help explain the raw data."
   ]
  },
  {
   "attachments": {},
   "cell_type": "markdown",
   "metadata": {},
   "source": [
    "#### Show 5 rows, selected at random, from the data set: This code randomly selects 5 rows from the dataset and displays them."
   ]
  },
  {
   "cell_type": "code",
   "execution_count": 45,
   "metadata": {},
   "outputs": [
    {
     "data": {
      "text/html": [
       "<div>\n",
       "<style scoped>\n",
       "    .dataframe tbody tr th:only-of-type {\n",
       "        vertical-align: middle;\n",
       "    }\n",
       "\n",
       "    .dataframe tbody tr th {\n",
       "        vertical-align: top;\n",
       "    }\n",
       "\n",
       "    .dataframe thead th {\n",
       "        text-align: right;\n",
       "    }\n",
       "</style>\n",
       "<table border=\"1\" class=\"dataframe\">\n",
       "  <thead>\n",
       "    <tr style=\"text-align: right;\">\n",
       "      <th></th>\n",
       "      <th>OID</th>\n",
       "      <th>Oversight Agency</th>\n",
       "      <th>Operator Name</th>\n",
       "      <th>Location Name</th>\n",
       "      <th>Address</th>\n",
       "      <th>AddrNum</th>\n",
       "      <th>AddrDir</th>\n",
       "      <th>AddrStr</th>\n",
       "      <th>Addr_Suffix</th>\n",
       "      <th>City</th>\n",
       "      <th>...</th>\n",
       "      <th>Borough</th>\n",
       "      <th>NTA Code</th>\n",
       "      <th>NTA Name</th>\n",
       "      <th>Council Distrcit</th>\n",
       "      <th>BoroCD</th>\n",
       "      <th>Census Tract</th>\n",
       "      <th>BCTCB2010</th>\n",
       "      <th>BIN</th>\n",
       "      <th>BBL</th>\n",
       "      <th>Location</th>\n",
       "    </tr>\n",
       "  </thead>\n",
       "  <tbody>\n",
       "    <tr>\n",
       "      <th>94</th>\n",
       "      <td>67</td>\n",
       "      <td>New York Public Library</td>\n",
       "      <td>New York Public Library</td>\n",
       "      <td>Science, Industry, and Business Library (SIBL)</td>\n",
       "      <td>188 Madison Avenue</td>\n",
       "      <td>188</td>\n",
       "      <td>NaN</td>\n",
       "      <td>Madison</td>\n",
       "      <td>Avenue</td>\n",
       "      <td>New York</td>\n",
       "      <td>...</td>\n",
       "      <td>Manhattan</td>\n",
       "      <td>MN17</td>\n",
       "      <td>Midtown-Midtown South</td>\n",
       "      <td>4</td>\n",
       "      <td>105</td>\n",
       "      <td>7400</td>\n",
       "      <td>10074001001</td>\n",
       "      <td>1087934</td>\n",
       "      <td>1008647502</td>\n",
       "      <td>POINT (-73.9830631 40.7481247)</td>\n",
       "    </tr>\n",
       "    <tr>\n",
       "      <th>237</th>\n",
       "      <td>213</td>\n",
       "      <td>Queens Library</td>\n",
       "      <td>Queens Library</td>\n",
       "      <td>Rochdale Village ALC</td>\n",
       "      <td>169-09 137 Avenue</td>\n",
       "      <td>169-09</td>\n",
       "      <td>NaN</td>\n",
       "      <td>137</td>\n",
       "      <td>Avenue</td>\n",
       "      <td>Jamaica</td>\n",
       "      <td>...</td>\n",
       "      <td>Queens</td>\n",
       "      <td>QN02</td>\n",
       "      <td>Springfield Gardens North</td>\n",
       "      <td>28</td>\n",
       "      <td>412</td>\n",
       "      <td>33402</td>\n",
       "      <td>40334024000</td>\n",
       "      <td>4270057</td>\n",
       "      <td>4124950175</td>\n",
       "      <td>POINT (-73.7706 40.67286)</td>\n",
       "    </tr>\n",
       "    <tr>\n",
       "      <th>338</th>\n",
       "      <td>327</td>\n",
       "      <td>Department for the Aging</td>\n",
       "      <td>JEWISH COMMUNITY CENTER OF STATEN ISLAND INC</td>\n",
       "      <td>JCC OF STATEN ISLAND INNOVATIVE SR CTR</td>\n",
       "      <td>1466 Manor Road</td>\n",
       "      <td>1466</td>\n",
       "      <td>NaN</td>\n",
       "      <td>Manor</td>\n",
       "      <td>Road</td>\n",
       "      <td>Staten Island</td>\n",
       "      <td>...</td>\n",
       "      <td>Staten Island</td>\n",
       "      <td>SI24</td>\n",
       "      <td>Todt Hill-Emerson Hill-Heartland Village-Light...</td>\n",
       "      <td>50</td>\n",
       "      <td>502</td>\n",
       "      <td>18100</td>\n",
       "      <td>50181001000</td>\n",
       "      <td>5141743</td>\n",
       "      <td>5009550100</td>\n",
       "      <td>POINT (-74.125677 40.594454)</td>\n",
       "    </tr>\n",
       "    <tr>\n",
       "      <th>142</th>\n",
       "      <td>150</td>\n",
       "      <td>Brooklyn Public Library</td>\n",
       "      <td>Brooklyn Public Library</td>\n",
       "      <td>Williamsburgh</td>\n",
       "      <td>240 Division Avenue</td>\n",
       "      <td>240</td>\n",
       "      <td>NaN</td>\n",
       "      <td>Division</td>\n",
       "      <td>Avenue</td>\n",
       "      <td>Brooklyn</td>\n",
       "      <td>...</td>\n",
       "      <td>Brooklyn</td>\n",
       "      <td>BK72</td>\n",
       "      <td>Williamsburg</td>\n",
       "      <td>33</td>\n",
       "      <td>301</td>\n",
       "      <td>52900</td>\n",
       "      <td>30529003008</td>\n",
       "      <td>3060090</td>\n",
       "      <td>3021890001</td>\n",
       "      <td>POINT (-73.95755461000002 40.70693042)</td>\n",
       "    </tr>\n",
       "    <tr>\n",
       "      <th>235</th>\n",
       "      <td>395</td>\n",
       "      <td>Department for the Aging</td>\n",
       "      <td>FORT GREENE COUNCIL</td>\n",
       "      <td>STUYVESANT HEIGHTS NEIGHBORHOOD SC</td>\n",
       "      <td>562-574 Madison Street</td>\n",
       "      <td>562-574</td>\n",
       "      <td>NaN</td>\n",
       "      <td>Madison</td>\n",
       "      <td>Street</td>\n",
       "      <td>Brooklyn</td>\n",
       "      <td>...</td>\n",
       "      <td>Brooklyn</td>\n",
       "      <td>BK35</td>\n",
       "      <td>Stuyvesant Heights</td>\n",
       "      <td>36</td>\n",
       "      <td>303</td>\n",
       "      <td>29300</td>\n",
       "      <td>30293004001</td>\n",
       "      <td>3045125</td>\n",
       "      <td>3016450001</td>\n",
       "      <td>POINT (-73.935295 40.686471)</td>\n",
       "    </tr>\n",
       "  </tbody>\n",
       "</table>\n",
       "<p>5 rows × 70 columns</p>\n",
       "</div>"
      ],
      "text/plain": [
       "     OID          Oversight Agency  \\\n",
       "94    67   New York Public Library   \n",
       "237  213            Queens Library   \n",
       "338  327  Department for the Aging   \n",
       "142  150   Brooklyn Public Library   \n",
       "235  395  Department for the Aging   \n",
       "\n",
       "                                    Operator Name  \\\n",
       "94                        New York Public Library   \n",
       "237                                Queens Library   \n",
       "338  JEWISH COMMUNITY CENTER OF STATEN ISLAND INC   \n",
       "142                       Brooklyn Public Library   \n",
       "235                           FORT GREENE COUNCIL   \n",
       "\n",
       "                                      Location Name                 Address  \\\n",
       "94   Science, Industry, and Business Library (SIBL)      188 Madison Avenue   \n",
       "237                            Rochdale Village ALC       169-09 137 Avenue   \n",
       "338          JCC OF STATEN ISLAND INNOVATIVE SR CTR         1466 Manor Road   \n",
       "142                                   Williamsburgh     240 Division Avenue   \n",
       "235              STUYVESANT HEIGHTS NEIGHBORHOOD SC  562-574 Madison Street   \n",
       "\n",
       "     AddrNum AddrDir   AddrStr Addr_Suffix           City  ...        Borough  \\\n",
       "94       188     NaN   Madison      Avenue       New York  ...      Manhattan   \n",
       "237   169-09     NaN       137      Avenue        Jamaica  ...         Queens   \n",
       "338     1466     NaN     Manor        Road  Staten Island  ...  Staten Island   \n",
       "142      240     NaN  Division      Avenue       Brooklyn  ...       Brooklyn   \n",
       "235  562-574     NaN   Madison      Street       Brooklyn  ...       Brooklyn   \n",
       "\n",
       "     NTA Code                                           NTA Name  \\\n",
       "94       MN17                              Midtown-Midtown South   \n",
       "237      QN02                          Springfield Gardens North   \n",
       "338      SI24  Todt Hill-Emerson Hill-Heartland Village-Light...   \n",
       "142      BK72                                       Williamsburg   \n",
       "235      BK35                                 Stuyvesant Heights   \n",
       "\n",
       "     Council Distrcit  BoroCD  Census Tract    BCTCB2010      BIN         BBL  \\\n",
       "94                  4     105          7400  10074001001  1087934  1008647502   \n",
       "237                28     412         33402  40334024000  4270057  4124950175   \n",
       "338                50     502         18100  50181001000  5141743  5009550100   \n",
       "142                33     301         52900  30529003008  3060090  3021890001   \n",
       "235                36     303         29300  30293004001  3045125  3016450001   \n",
       "\n",
       "                                   Location  \n",
       "94           POINT (-73.9830631 40.7481247)  \n",
       "237               POINT (-73.7706 40.67286)  \n",
       "338            POINT (-74.125677 40.594454)  \n",
       "142  POINT (-73.95755461000002 40.70693042)  \n",
       "235            POINT (-73.935295 40.686471)  \n",
       "\n",
       "[5 rows x 70 columns]"
      ]
     },
     "execution_count": 45,
     "metadata": {},
     "output_type": "execute_result"
    }
   ],
   "source": [
    "data.sample(5)\n"
   ]
  },
  {
   "attachments": {},
   "cell_type": "markdown",
   "metadata": {},
   "source": [
    "#### Show each of the column names and their data types: This code shows the names of each column in the dataset along with their respective data types.\n"
   ]
  },
  {
   "cell_type": "code",
   "execution_count": 139,
   "metadata": {},
   "outputs": [
    {
     "data": {
      "text/plain": [
       "OID                            int64\n",
       "Oversight Agency              object\n",
       "Operator Name                 object\n",
       "Location Name                 object\n",
       "Address                       object\n",
       "City                          object\n",
       "State                         object\n",
       "Postcode                       int64\n",
       "WiFi Dwn                     float64\n",
       "WiFi Up                      float64\n",
       "Wi-Fi Available                 bool\n",
       "Workstation #                  int64\n",
       "Staffed                         bool\n",
       "Mon Open                      object\n",
       "Mon Close                     object\n",
       "Mon Open_2                    object\n",
       "Mon Close_2                   object\n",
       "Tue Open                      object\n",
       "Tue Close                     object\n",
       "Tue Open_2                    object\n",
       "Tue Close_2                   object\n",
       "Wed Open                      object\n",
       "Wed Close                     object\n",
       "Wed Open_2                    object\n",
       "Wed Close_2                   object\n",
       "Thu Open                      object\n",
       "Thu Close                     object\n",
       "Thu Open_2                    object\n",
       "Thu Close_2                   object\n",
       "Fri Open                      object\n",
       "Fri Close                     object\n",
       "Fri Open_2                    object\n",
       "Fri Close_2                   object\n",
       "Sat Open                      object\n",
       "Sat Close                     object\n",
       "Sat Open_2                    object\n",
       "Sat Close_2                   object\n",
       "Sun Open                      object\n",
       "Sun Close                     object\n",
       "Language Access               object\n",
       "Wheelchair Accessible         object\n",
       "Wheelchair Access Notes       object\n",
       "OS Accessibility Features       bool\n",
       "Open Lab Hrs Per Wk           object\n",
       "Training  Hours Per Wk       float64\n",
       "Supplementary Equipment       object\n",
       "Device Loaning               float64\n",
       "Devices Loaned                object\n",
       "Access Requirements           object\n",
       "Access Notes                  object\n",
       "URL                           object\n",
       "BoroCode                       int64\n",
       "Borough                       object\n",
       "NTA Name                      object\n",
       "dtype: object"
      ]
     },
     "execution_count": 139,
     "metadata": {},
     "output_type": "execute_result"
    }
   ],
   "source": [
    "data.dtypes\n"
   ]
  },
  {
   "attachments": {},
   "cell_type": "markdown",
   "metadata": {},
   "source": [
    "#### Show any unique features of your chosen data set: This code shows the number of unique values in each column."
   ]
  },
  {
   "cell_type": "code",
   "execution_count": 46,
   "metadata": {},
   "outputs": [
    {
     "data": {
      "text/plain": [
       "OID                 508\n",
       "Oversight Agency      7\n",
       "Operator Name       135\n",
       "Location Name       496\n",
       "Address             493\n",
       "                   ... \n",
       "Census Tract        371\n",
       "BCTCB2010           479\n",
       "BIN                 486\n",
       "BBL                 480\n",
       "Location            495\n",
       "Length: 70, dtype: int64"
      ]
     },
     "execution_count": 46,
     "metadata": {},
     "output_type": "execute_result"
    }
   ],
   "source": [
    "unique_values = data.nunique()\n",
    "unique_values"
   ]
  },
  {
   "cell_type": "markdown",
   "metadata": {},
   "source": [
    "## Data munging\n",
    "Place your **data munging** code and documentation within this section.  \n",
    "- Keep each of your Code cells short and focused on a single task.  \n",
    "- Include a Markdown cell above each code cell that describes what task the code within the code cell is performing.\n",
    "- Make as many code cells as you need to complete the munging - a few have been created for you to start with.\n",
    "- Display 5 sample rows of the modified data after each transformation so a viewer can see how the data has changed.\n",
    "\n",
    "**Note**: If you believe that your data set does not require any munging, please explain in detail.  Create Markdown cells that explain your thinking and create Code cells that show any specific structures of the data you refer to in your explanation."
   ]
  },
  {
   "attachments": {},
   "cell_type": "markdown",
   "metadata": {},
   "source": [
    "#### This code deletes the fragmented address columns. In other words, the STREET address is just in one column now."
   ]
  },
  {
   "cell_type": "code",
   "execution_count": 47,
   "metadata": {},
   "outputs": [
    {
     "data": {
      "text/html": [
       "<div>\n",
       "<style scoped>\n",
       "    .dataframe tbody tr th:only-of-type {\n",
       "        vertical-align: middle;\n",
       "    }\n",
       "\n",
       "    .dataframe tbody tr th {\n",
       "        vertical-align: top;\n",
       "    }\n",
       "\n",
       "    .dataframe thead th {\n",
       "        text-align: right;\n",
       "    }\n",
       "</style>\n",
       "<table border=\"1\" class=\"dataframe\">\n",
       "  <thead>\n",
       "    <tr style=\"text-align: right;\">\n",
       "      <th></th>\n",
       "      <th>OID</th>\n",
       "      <th>Oversight Agency</th>\n",
       "      <th>Operator Name</th>\n",
       "      <th>Location Name</th>\n",
       "      <th>Address</th>\n",
       "      <th>City</th>\n",
       "      <th>State</th>\n",
       "      <th>Postcode</th>\n",
       "      <th>Latitude</th>\n",
       "      <th>Longitude</th>\n",
       "      <th>...</th>\n",
       "      <th>Borough</th>\n",
       "      <th>NTA Code</th>\n",
       "      <th>NTA Name</th>\n",
       "      <th>Council Distrcit</th>\n",
       "      <th>BoroCD</th>\n",
       "      <th>Census Tract</th>\n",
       "      <th>BCTCB2010</th>\n",
       "      <th>BIN</th>\n",
       "      <th>BBL</th>\n",
       "      <th>Location</th>\n",
       "    </tr>\n",
       "  </thead>\n",
       "  <tbody>\n",
       "    <tr>\n",
       "      <th>105</th>\n",
       "      <td>231</td>\n",
       "      <td>Department of Parks and Recreation</td>\n",
       "      <td>Department of Parks and Recreation</td>\n",
       "      <td>East 54th</td>\n",
       "      <td>348 E 54th Street</td>\n",
       "      <td>New York</td>\n",
       "      <td>NY</td>\n",
       "      <td>10022</td>\n",
       "      <td>40.756466</td>\n",
       "      <td>-73.965137</td>\n",
       "      <td>...</td>\n",
       "      <td>Manhattan</td>\n",
       "      <td>MN19</td>\n",
       "      <td>Turtle Bay-East Midtown</td>\n",
       "      <td>4</td>\n",
       "      <td>106</td>\n",
       "      <td>9800</td>\n",
       "      <td>10098005000</td>\n",
       "      <td>1039840</td>\n",
       "      <td>1013460032</td>\n",
       "      <td>POINT (-73.965137 40.756466)</td>\n",
       "    </tr>\n",
       "    <tr>\n",
       "      <th>270</th>\n",
       "      <td>419</td>\n",
       "      <td>Department of Youth and Community Development</td>\n",
       "      <td>HANAC (Hellenic American Neighborhood Action C...</td>\n",
       "      <td>Astoria</td>\n",
       "      <td>4-05 Astoria Blvd</td>\n",
       "      <td>Queens</td>\n",
       "      <td>NY</td>\n",
       "      <td>11102</td>\n",
       "      <td>40.773352</td>\n",
       "      <td>-73.933745</td>\n",
       "      <td>...</td>\n",
       "      <td>Queens</td>\n",
       "      <td>QN71</td>\n",
       "      <td>Old Astoria</td>\n",
       "      <td>22</td>\n",
       "      <td>401</td>\n",
       "      <td>8700</td>\n",
       "      <td>40087003004</td>\n",
       "      <td>4430787</td>\n",
       "      <td>4004900101</td>\n",
       "      <td>POINT (-73.933745 40.773352)</td>\n",
       "    </tr>\n",
       "    <tr>\n",
       "      <th>442</th>\n",
       "      <td>484</td>\n",
       "      <td>Department of Youth and Community Development</td>\n",
       "      <td>El Puente de Williamsburg</td>\n",
       "      <td>Williams Plaza</td>\n",
       "      <td>323 Roebling Street</td>\n",
       "      <td>Brooklyn</td>\n",
       "      <td>NY</td>\n",
       "      <td>11211</td>\n",
       "      <td>40.708135</td>\n",
       "      <td>-73.960634</td>\n",
       "      <td>...</td>\n",
       "      <td>Brooklyn</td>\n",
       "      <td>BK73</td>\n",
       "      <td>North Side-South Side</td>\n",
       "      <td>33</td>\n",
       "      <td>301</td>\n",
       "      <td>52500</td>\n",
       "      <td>30525001011</td>\n",
       "      <td>3341975</td>\n",
       "      <td>3021400026</td>\n",
       "      <td>POINT (-73.960634 40.708135)</td>\n",
       "    </tr>\n",
       "    <tr>\n",
       "      <th>311</th>\n",
       "      <td>104</td>\n",
       "      <td>Brooklyn Public Library</td>\n",
       "      <td>Brooklyn Public Library</td>\n",
       "      <td>Central</td>\n",
       "      <td>10 Grand Army Plaza</td>\n",
       "      <td>Brooklyn</td>\n",
       "      <td>NY</td>\n",
       "      <td>11238</td>\n",
       "      <td>40.672406</td>\n",
       "      <td>-73.968215</td>\n",
       "      <td>...</td>\n",
       "      <td>Brooklyn</td>\n",
       "      <td>BK99</td>\n",
       "      <td>park-cemetery-etc-Brooklyn</td>\n",
       "      <td>35</td>\n",
       "      <td>355</td>\n",
       "      <td>17700</td>\n",
       "      <td>30177001000</td>\n",
       "      <td>3029665</td>\n",
       "      <td>3011830002</td>\n",
       "      <td>POINT (-73.968215 40.672406)</td>\n",
       "    </tr>\n",
       "    <tr>\n",
       "      <th>406</th>\n",
       "      <td>399</td>\n",
       "      <td>Department for the Aging</td>\n",
       "      <td>FORT GREENE COUNCIL</td>\n",
       "      <td>TERESA MOORE NEIGHBORHOOD SENIOR CENTER</td>\n",
       "      <td>2702 Linden Boulevard</td>\n",
       "      <td>Brooklyn</td>\n",
       "      <td>NY</td>\n",
       "      <td>11208</td>\n",
       "      <td>40.668837</td>\n",
       "      <td>-73.864605</td>\n",
       "      <td>...</td>\n",
       "      <td>Brooklyn</td>\n",
       "      <td>BK82</td>\n",
       "      <td>East New York</td>\n",
       "      <td>42</td>\n",
       "      <td>305</td>\n",
       "      <td>121400</td>\n",
       "      <td>31214001000</td>\n",
       "      <td>3326995</td>\n",
       "      <td>3044880001</td>\n",
       "      <td>POINT (-73.864605 40.668837)</td>\n",
       "    </tr>\n",
       "  </tbody>\n",
       "</table>\n",
       "<p>5 rows × 66 columns</p>\n",
       "</div>"
      ],
      "text/plain": [
       "     OID                               Oversight Agency  \\\n",
       "105  231             Department of Parks and Recreation   \n",
       "270  419  Department of Youth and Community Development   \n",
       "442  484  Department of Youth and Community Development   \n",
       "311  104                        Brooklyn Public Library   \n",
       "406  399                       Department for the Aging   \n",
       "\n",
       "                                         Operator Name  \\\n",
       "105                 Department of Parks and Recreation   \n",
       "270  HANAC (Hellenic American Neighborhood Action C...   \n",
       "442                          El Puente de Williamsburg   \n",
       "311                            Brooklyn Public Library   \n",
       "406                                FORT GREENE COUNCIL   \n",
       "\n",
       "                               Location Name                Address      City  \\\n",
       "105                                East 54th      348 E 54th Street  New York   \n",
       "270                                  Astoria      4-05 Astoria Blvd    Queens   \n",
       "442                           Williams Plaza    323 Roebling Street  Brooklyn   \n",
       "311                                  Central    10 Grand Army Plaza  Brooklyn   \n",
       "406  TERESA MOORE NEIGHBORHOOD SENIOR CENTER  2702 Linden Boulevard  Brooklyn   \n",
       "\n",
       "    State  Postcode   Latitude  Longitude  ...    Borough  NTA Code  \\\n",
       "105    NY     10022  40.756466 -73.965137  ...  Manhattan      MN19   \n",
       "270    NY     11102  40.773352 -73.933745  ...     Queens      QN71   \n",
       "442    NY     11211  40.708135 -73.960634  ...   Brooklyn      BK73   \n",
       "311    NY     11238  40.672406 -73.968215  ...   Brooklyn      BK99   \n",
       "406    NY     11208  40.668837 -73.864605  ...   Brooklyn      BK82   \n",
       "\n",
       "                       NTA Name  Council Distrcit  BoroCD  Census Tract  \\\n",
       "105     Turtle Bay-East Midtown                 4     106          9800   \n",
       "270                 Old Astoria                22     401          8700   \n",
       "442       North Side-South Side                33     301         52500   \n",
       "311  park-cemetery-etc-Brooklyn                35     355         17700   \n",
       "406               East New York                42     305        121400   \n",
       "\n",
       "       BCTCB2010      BIN         BBL                      Location  \n",
       "105  10098005000  1039840  1013460032  POINT (-73.965137 40.756466)  \n",
       "270  40087003004  4430787  4004900101  POINT (-73.933745 40.773352)  \n",
       "442  30525001011  3341975  3021400026  POINT (-73.960634 40.708135)  \n",
       "311  30177001000  3029665  3011830002  POINT (-73.968215 40.672406)  \n",
       "406  31214001000  3326995  3044880001  POINT (-73.864605 40.668837)  \n",
       "\n",
       "[5 rows x 66 columns]"
      ]
     },
     "execution_count": 47,
     "metadata": {},
     "output_type": "execute_result"
    }
   ],
   "source": [
    "data.drop([\"AddrNum\", \"AddrDir\", \"AddrStr\", \"Addr_Suffix\"], axis=1, inplace=True)\n",
    "\n",
    "data.sample(5)\n"
   ]
  },
  {
   "attachments": {},
   "cell_type": "markdown",
   "metadata": {},
   "source": [
    "#### This code removes the \"Latitude\" and \"Longitude\" columns as they are not needed for analysis."
   ]
  },
  {
   "cell_type": "code",
   "execution_count": 51,
   "metadata": {},
   "outputs": [
    {
     "data": {
      "text/html": [
       "<div>\n",
       "<style scoped>\n",
       "    .dataframe tbody tr th:only-of-type {\n",
       "        vertical-align: middle;\n",
       "    }\n",
       "\n",
       "    .dataframe tbody tr th {\n",
       "        vertical-align: top;\n",
       "    }\n",
       "\n",
       "    .dataframe thead th {\n",
       "        text-align: right;\n",
       "    }\n",
       "</style>\n",
       "<table border=\"1\" class=\"dataframe\">\n",
       "  <thead>\n",
       "    <tr style=\"text-align: right;\">\n",
       "      <th></th>\n",
       "      <th>OID</th>\n",
       "      <th>Oversight Agency</th>\n",
       "      <th>Operator Name</th>\n",
       "      <th>Location Name</th>\n",
       "      <th>Address</th>\n",
       "      <th>City</th>\n",
       "      <th>State</th>\n",
       "      <th>Postcode</th>\n",
       "      <th>WiFi Dwn</th>\n",
       "      <th>WiFi Up</th>\n",
       "      <th>...</th>\n",
       "      <th>Borough</th>\n",
       "      <th>NTA Code</th>\n",
       "      <th>NTA Name</th>\n",
       "      <th>Council Distrcit</th>\n",
       "      <th>BoroCD</th>\n",
       "      <th>Census Tract</th>\n",
       "      <th>BCTCB2010</th>\n",
       "      <th>BIN</th>\n",
       "      <th>BBL</th>\n",
       "      <th>Location</th>\n",
       "    </tr>\n",
       "  </thead>\n",
       "  <tbody>\n",
       "    <tr>\n",
       "      <th>101</th>\n",
       "      <td>121</td>\n",
       "      <td>Brooklyn Public Library</td>\n",
       "      <td>Brooklyn Public Library</td>\n",
       "      <td>Highlawn</td>\n",
       "      <td>1664 W. 13th Street</td>\n",
       "      <td>Brooklyn</td>\n",
       "      <td>NY</td>\n",
       "      <td>11223</td>\n",
       "      <td>101.0</td>\n",
       "      <td>35.0</td>\n",
       "      <td>...</td>\n",
       "      <td>Brooklyn</td>\n",
       "      <td>BK29</td>\n",
       "      <td>Bensonhurst East</td>\n",
       "      <td>44</td>\n",
       "      <td>311</td>\n",
       "      <td>40400</td>\n",
       "      <td>30404002000</td>\n",
       "      <td>3175253</td>\n",
       "      <td>3066180034</td>\n",
       "      <td>POINT (-73.986257 40.605703)</td>\n",
       "    </tr>\n",
       "    <tr>\n",
       "      <th>386</th>\n",
       "      <td>305</td>\n",
       "      <td>Department for the Aging</td>\n",
       "      <td>FIND AID FOR THE AGED</td>\n",
       "      <td>FIND AID ISC</td>\n",
       "      <td>141 West 73rd Street</td>\n",
       "      <td>Manhattan</td>\n",
       "      <td>NY</td>\n",
       "      <td>10023</td>\n",
       "      <td>7.0</td>\n",
       "      <td>1.0</td>\n",
       "      <td>...</td>\n",
       "      <td>Manhattan</td>\n",
       "      <td>MN14</td>\n",
       "      <td>Lincoln Square</td>\n",
       "      <td>6</td>\n",
       "      <td>107</td>\n",
       "      <td>15700</td>\n",
       "      <td>10157005000</td>\n",
       "      <td>1030011</td>\n",
       "      <td>1011450012</td>\n",
       "      <td>POINT (-73.979807 40.778922)</td>\n",
       "    </tr>\n",
       "    <tr>\n",
       "      <th>442</th>\n",
       "      <td>484</td>\n",
       "      <td>Department of Youth and Community Development</td>\n",
       "      <td>El Puente de Williamsburg</td>\n",
       "      <td>Williams Plaza</td>\n",
       "      <td>323 Roebling Street</td>\n",
       "      <td>Brooklyn</td>\n",
       "      <td>NY</td>\n",
       "      <td>11211</td>\n",
       "      <td>NaN</td>\n",
       "      <td>NaN</td>\n",
       "      <td>...</td>\n",
       "      <td>Brooklyn</td>\n",
       "      <td>BK73</td>\n",
       "      <td>North Side-South Side</td>\n",
       "      <td>33</td>\n",
       "      <td>301</td>\n",
       "      <td>52500</td>\n",
       "      <td>30525001011</td>\n",
       "      <td>3341975</td>\n",
       "      <td>3021400026</td>\n",
       "      <td>POINT (-73.960634 40.708135)</td>\n",
       "    </tr>\n",
       "    <tr>\n",
       "      <th>170</th>\n",
       "      <td>46</td>\n",
       "      <td>New York Public Library</td>\n",
       "      <td>New York Public Library</td>\n",
       "      <td>Mid- Manhattan</td>\n",
       "      <td>455 Fifth Avenue</td>\n",
       "      <td>New York</td>\n",
       "      <td>NY</td>\n",
       "      <td>10016</td>\n",
       "      <td>1000.0</td>\n",
       "      <td>1000.0</td>\n",
       "      <td>...</td>\n",
       "      <td>Manhattan</td>\n",
       "      <td>MN20</td>\n",
       "      <td>Murray Hill-Kips Bay</td>\n",
       "      <td>4</td>\n",
       "      <td>105</td>\n",
       "      <td>8200</td>\n",
       "      <td>10082001003</td>\n",
       "      <td>1017602</td>\n",
       "      <td>1008690074</td>\n",
       "      <td>POINT (-73.981604 40.751845)</td>\n",
       "    </tr>\n",
       "    <tr>\n",
       "      <th>387</th>\n",
       "      <td>5</td>\n",
       "      <td>New York Public Library</td>\n",
       "      <td>New York Public Library</td>\n",
       "      <td>96th Street</td>\n",
       "      <td>112 East 96th Street</td>\n",
       "      <td>New York</td>\n",
       "      <td>NY</td>\n",
       "      <td>10128</td>\n",
       "      <td>1000.0</td>\n",
       "      <td>1000.0</td>\n",
       "      <td>...</td>\n",
       "      <td>Manhattan</td>\n",
       "      <td>MN40</td>\n",
       "      <td>Upper East Side-Carnegie Hill</td>\n",
       "      <td>4</td>\n",
       "      <td>108</td>\n",
       "      <td>15801</td>\n",
       "      <td>10158014000</td>\n",
       "      <td>1048501</td>\n",
       "      <td>1015240064</td>\n",
       "      <td>POINT (-73.95180567000001 40.7859598)</td>\n",
       "    </tr>\n",
       "  </tbody>\n",
       "</table>\n",
       "<p>5 rows × 62 columns</p>\n",
       "</div>"
      ],
      "text/plain": [
       "     OID                               Oversight Agency  \\\n",
       "101  121                        Brooklyn Public Library   \n",
       "386  305                       Department for the Aging   \n",
       "442  484  Department of Youth and Community Development   \n",
       "170   46                        New York Public Library   \n",
       "387    5                        New York Public Library   \n",
       "\n",
       "                 Operator Name   Location Name               Address  \\\n",
       "101    Brooklyn Public Library        Highlawn   1664 W. 13th Street   \n",
       "386      FIND AID FOR THE AGED    FIND AID ISC  141 West 73rd Street   \n",
       "442  El Puente de Williamsburg  Williams Plaza   323 Roebling Street   \n",
       "170    New York Public Library  Mid- Manhattan      455 Fifth Avenue   \n",
       "387    New York Public Library     96th Street  112 East 96th Street   \n",
       "\n",
       "          City State  Postcode  WiFi Dwn  WiFi Up  ...    Borough  NTA Code  \\\n",
       "101   Brooklyn    NY     11223     101.0     35.0  ...   Brooklyn      BK29   \n",
       "386  Manhattan    NY     10023       7.0      1.0  ...  Manhattan      MN14   \n",
       "442   Brooklyn    NY     11211       NaN      NaN  ...   Brooklyn      BK73   \n",
       "170   New York    NY     10016    1000.0   1000.0  ...  Manhattan      MN20   \n",
       "387   New York    NY     10128    1000.0   1000.0  ...  Manhattan      MN40   \n",
       "\n",
       "                          NTA Name Council Distrcit BoroCD Census Tract  \\\n",
       "101               Bensonhurst East               44    311        40400   \n",
       "386                 Lincoln Square                6    107        15700   \n",
       "442          North Side-South Side               33    301        52500   \n",
       "170           Murray Hill-Kips Bay                4    105         8200   \n",
       "387  Upper East Side-Carnegie Hill                4    108        15801   \n",
       "\n",
       "       BCTCB2010      BIN         BBL                               Location  \n",
       "101  30404002000  3175253  3066180034           POINT (-73.986257 40.605703)  \n",
       "386  10157005000  1030011  1011450012           POINT (-73.979807 40.778922)  \n",
       "442  30525001011  3341975  3021400026           POINT (-73.960634 40.708135)  \n",
       "170  10082001003  1017602  1008690074           POINT (-73.981604 40.751845)  \n",
       "387  10158014000  1048501  1015240064  POINT (-73.95180567000001 40.7859598)  \n",
       "\n",
       "[5 rows x 62 columns]"
      ]
     },
     "execution_count": 51,
     "metadata": {},
     "output_type": "execute_result"
    }
   ],
   "source": [
    "data.drop([\"Latitude\", \"Longitude\"], axis=1, inplace=True)\n",
    "data.sample(5)\n"
   ]
  },
  {
   "attachments": {},
   "cell_type": "markdown",
   "metadata": {},
   "source": [
    "#### This code drops columns related to the location that I do not think are necessary for my own understanding of the data."
   ]
  },
  {
   "cell_type": "code",
   "execution_count": 52,
   "metadata": {},
   "outputs": [
    {
     "data": {
      "text/html": [
       "<div>\n",
       "<style scoped>\n",
       "    .dataframe tbody tr th:only-of-type {\n",
       "        vertical-align: middle;\n",
       "    }\n",
       "\n",
       "    .dataframe tbody tr th {\n",
       "        vertical-align: top;\n",
       "    }\n",
       "\n",
       "    .dataframe thead th {\n",
       "        text-align: right;\n",
       "    }\n",
       "</style>\n",
       "<table border=\"1\" class=\"dataframe\">\n",
       "  <thead>\n",
       "    <tr style=\"text-align: right;\">\n",
       "      <th></th>\n",
       "      <th>OID</th>\n",
       "      <th>Oversight Agency</th>\n",
       "      <th>Operator Name</th>\n",
       "      <th>Location Name</th>\n",
       "      <th>Address</th>\n",
       "      <th>City</th>\n",
       "      <th>State</th>\n",
       "      <th>Postcode</th>\n",
       "      <th>WiFi Dwn</th>\n",
       "      <th>WiFi Up</th>\n",
       "      <th>...</th>\n",
       "      <th>Training  Hours Per Wk</th>\n",
       "      <th>Supplementary Equipment</th>\n",
       "      <th>Device Loaning</th>\n",
       "      <th>Devices Loaned</th>\n",
       "      <th>Access Requirements</th>\n",
       "      <th>Access Notes</th>\n",
       "      <th>URL</th>\n",
       "      <th>BoroCode</th>\n",
       "      <th>Borough</th>\n",
       "      <th>NTA Name</th>\n",
       "    </tr>\n",
       "  </thead>\n",
       "  <tbody>\n",
       "    <tr>\n",
       "      <th>23</th>\n",
       "      <td>2</td>\n",
       "      <td>New York Public Library</td>\n",
       "      <td>New York Public Library</td>\n",
       "      <td>53rd Street</td>\n",
       "      <td>18 West 53rd Street</td>\n",
       "      <td>New York</td>\n",
       "      <td>NY</td>\n",
       "      <td>10019</td>\n",
       "      <td>1000.0</td>\n",
       "      <td>1000.0</td>\n",
       "      <td>...</td>\n",
       "      <td>0.2</td>\n",
       "      <td>Printer, Photocopier, Projector</td>\n",
       "      <td>NaN</td>\n",
       "      <td>NaN</td>\n",
       "      <td>All ages; library card required for use of pub...</td>\n",
       "      <td>NaN</td>\n",
       "      <td>https://www.nypl.org/locations/53rd-street</td>\n",
       "      <td>1</td>\n",
       "      <td>Manhattan</td>\n",
       "      <td>Midtown-Midtown South</td>\n",
       "    </tr>\n",
       "    <tr>\n",
       "      <th>300</th>\n",
       "      <td>47</td>\n",
       "      <td>New York Public Library</td>\n",
       "      <td>New York Public Library</td>\n",
       "      <td>Morningside Heights</td>\n",
       "      <td>2900 Broadway</td>\n",
       "      <td>New York</td>\n",
       "      <td>NY</td>\n",
       "      <td>10025</td>\n",
       "      <td>1000.0</td>\n",
       "      <td>1000.0</td>\n",
       "      <td>...</td>\n",
       "      <td>3.2</td>\n",
       "      <td>Printer, Photocopier, Projector</td>\n",
       "      <td>NaN</td>\n",
       "      <td>NaN</td>\n",
       "      <td>All ages; library card required for use of pub...</td>\n",
       "      <td>NaN</td>\n",
       "      <td>https://www.nypl.org/locations/morningside-hei...</td>\n",
       "      <td>1</td>\n",
       "      <td>Manhattan</td>\n",
       "      <td>Morningside Heights</td>\n",
       "    </tr>\n",
       "    <tr>\n",
       "      <th>193</th>\n",
       "      <td>37</td>\n",
       "      <td>New York Public Library</td>\n",
       "      <td>New York Public Library</td>\n",
       "      <td>Hunt's Point</td>\n",
       "      <td>877 Southern Boulevard</td>\n",
       "      <td>Bronx</td>\n",
       "      <td>NY</td>\n",
       "      <td>10459</td>\n",
       "      <td>60.0</td>\n",
       "      <td>60.0</td>\n",
       "      <td>...</td>\n",
       "      <td>10.7</td>\n",
       "      <td>Printer, Photocopier, Projector</td>\n",
       "      <td>NaN</td>\n",
       "      <td>NaN</td>\n",
       "      <td>All ages; library card required for use of pub...</td>\n",
       "      <td>NaN</td>\n",
       "      <td>https://www.nypl.org/locations/hunts-point</td>\n",
       "      <td>2</td>\n",
       "      <td>Bronx</td>\n",
       "      <td>Hunts Point</td>\n",
       "    </tr>\n",
       "    <tr>\n",
       "      <th>228</th>\n",
       "      <td>269</td>\n",
       "      <td>Department for the Aging</td>\n",
       "      <td>CATHOLIC CHARITIES NEIGHBORHOOD SERVICES INC</td>\n",
       "      <td>BAYSIDE NEIGHBORHOOD SENIOR CENTER</td>\n",
       "      <td>221-15 Horace Harding Expressway</td>\n",
       "      <td>Queens</td>\n",
       "      <td>NY</td>\n",
       "      <td>11364</td>\n",
       "      <td>17.0</td>\n",
       "      <td>2.0</td>\n",
       "      <td>...</td>\n",
       "      <td>5.0</td>\n",
       "      <td>Printer, Scanner, Projector</td>\n",
       "      <td>NaN</td>\n",
       "      <td>NaN</td>\n",
       "      <td>Must be 60+ years of age to access</td>\n",
       "      <td>NaN</td>\n",
       "      <td>https://www.ccbq.org/what-we-do/older-adult-se...</td>\n",
       "      <td>4</td>\n",
       "      <td>Queens</td>\n",
       "      <td>Oakland Gardens</td>\n",
       "    </tr>\n",
       "    <tr>\n",
       "      <th>138</th>\n",
       "      <td>282</td>\n",
       "      <td>Department for the Aging</td>\n",
       "      <td>CATHOLIC CHARITIES NEIGHBORHOOD SERVICES INC</td>\n",
       "      <td>CCNS CATHERINE SHERIDAN NSC</td>\n",
       "      <td>35-24 83rd Street</td>\n",
       "      <td>Queens</td>\n",
       "      <td>NY</td>\n",
       "      <td>11372</td>\n",
       "      <td>7.0</td>\n",
       "      <td>3.0</td>\n",
       "      <td>...</td>\n",
       "      <td>1.0</td>\n",
       "      <td>NaN</td>\n",
       "      <td>NaN</td>\n",
       "      <td>NaN</td>\n",
       "      <td>Must be 60+ years of age to access</td>\n",
       "      <td>NaN</td>\n",
       "      <td>https://www.ccbq.org/what-we-do/older-adult-se...</td>\n",
       "      <td>4</td>\n",
       "      <td>Queens</td>\n",
       "      <td>Jackson Heights</td>\n",
       "    </tr>\n",
       "  </tbody>\n",
       "</table>\n",
       "<p>5 rows × 54 columns</p>\n",
       "</div>"
      ],
      "text/plain": [
       "     OID          Oversight Agency  \\\n",
       "23     2   New York Public Library   \n",
       "300   47   New York Public Library   \n",
       "193   37   New York Public Library   \n",
       "228  269  Department for the Aging   \n",
       "138  282  Department for the Aging   \n",
       "\n",
       "                                    Operator Name  \\\n",
       "23                        New York Public Library   \n",
       "300                       New York Public Library   \n",
       "193                       New York Public Library   \n",
       "228  CATHOLIC CHARITIES NEIGHBORHOOD SERVICES INC   \n",
       "138  CATHOLIC CHARITIES NEIGHBORHOOD SERVICES INC   \n",
       "\n",
       "                          Location Name                           Address  \\\n",
       "23                          53rd Street               18 West 53rd Street   \n",
       "300                 Morningside Heights                     2900 Broadway   \n",
       "193                        Hunt's Point            877 Southern Boulevard   \n",
       "228  BAYSIDE NEIGHBORHOOD SENIOR CENTER  221-15 Horace Harding Expressway   \n",
       "138         CCNS CATHERINE SHERIDAN NSC                 35-24 83rd Street   \n",
       "\n",
       "         City State  Postcode  WiFi Dwn  WiFi Up  ...  Training  Hours Per Wk  \\\n",
       "23   New York    NY     10019    1000.0   1000.0  ...                     0.2   \n",
       "300  New York    NY     10025    1000.0   1000.0  ...                     3.2   \n",
       "193     Bronx    NY     10459      60.0     60.0  ...                    10.7   \n",
       "228    Queens    NY     11364      17.0      2.0  ...                     5.0   \n",
       "138    Queens    NY     11372       7.0      3.0  ...                     1.0   \n",
       "\n",
       "             Supplementary Equipment  Device Loaning Devices Loaned  \\\n",
       "23   Printer, Photocopier, Projector             NaN            NaN   \n",
       "300  Printer, Photocopier, Projector             NaN            NaN   \n",
       "193  Printer, Photocopier, Projector             NaN            NaN   \n",
       "228      Printer, Scanner, Projector             NaN            NaN   \n",
       "138                              NaN             NaN            NaN   \n",
       "\n",
       "                                   Access Requirements Access Notes  \\\n",
       "23   All ages; library card required for use of pub...          NaN   \n",
       "300  All ages; library card required for use of pub...          NaN   \n",
       "193  All ages; library card required for use of pub...          NaN   \n",
       "228                 Must be 60+ years of age to access          NaN   \n",
       "138                 Must be 60+ years of age to access          NaN   \n",
       "\n",
       "                                                   URL BoroCode    Borough  \\\n",
       "23          https://www.nypl.org/locations/53rd-street        1  Manhattan   \n",
       "300  https://www.nypl.org/locations/morningside-hei...        1  Manhattan   \n",
       "193         https://www.nypl.org/locations/hunts-point        2      Bronx   \n",
       "228  https://www.ccbq.org/what-we-do/older-adult-se...        4     Queens   \n",
       "138  https://www.ccbq.org/what-we-do/older-adult-se...        4     Queens   \n",
       "\n",
       "                  NTA Name  \n",
       "23   Midtown-Midtown South  \n",
       "300    Morningside Heights  \n",
       "193            Hunts Point  \n",
       "228        Oakland Gardens  \n",
       "138        Jackson Heights  \n",
       "\n",
       "[5 rows x 54 columns]"
      ]
     },
     "execution_count": 52,
     "metadata": {},
     "output_type": "execute_result"
    }
   ],
   "source": [
    "location_cols = [\"NTA Code\", \"Council Distrcit\", \"BoroCD\", \"Census Tract\", \"BCTCB2010\", \"BIN\", \"BBL\", \"Location\"]\n",
    "data[location_cols] = data[location_cols].apply(pd.to_numeric, errors=\"coerce\")\n",
    "\n",
    "data.drop(location_cols, axis=1, inplace=True)\n",
    "\n",
    "data.sample(5)\n"
   ]
  },
  {
   "attachments": {},
   "cell_type": "markdown",
   "metadata": {},
   "source": [
    "#### This code drops the Wireline Dwn/Wireline Up columns."
   ]
  },
  {
   "cell_type": "code",
   "execution_count": 48,
   "metadata": {},
   "outputs": [
    {
     "data": {
      "text/html": [
       "<div>\n",
       "<style scoped>\n",
       "    .dataframe tbody tr th:only-of-type {\n",
       "        vertical-align: middle;\n",
       "    }\n",
       "\n",
       "    .dataframe tbody tr th {\n",
       "        vertical-align: top;\n",
       "    }\n",
       "\n",
       "    .dataframe thead th {\n",
       "        text-align: right;\n",
       "    }\n",
       "</style>\n",
       "<table border=\"1\" class=\"dataframe\">\n",
       "  <thead>\n",
       "    <tr style=\"text-align: right;\">\n",
       "      <th></th>\n",
       "      <th>OID</th>\n",
       "      <th>Oversight Agency</th>\n",
       "      <th>Operator Name</th>\n",
       "      <th>Location Name</th>\n",
       "      <th>Address</th>\n",
       "      <th>City</th>\n",
       "      <th>State</th>\n",
       "      <th>Postcode</th>\n",
       "      <th>Latitude</th>\n",
       "      <th>Longitude</th>\n",
       "      <th>...</th>\n",
       "      <th>Borough</th>\n",
       "      <th>NTA Code</th>\n",
       "      <th>NTA Name</th>\n",
       "      <th>Council Distrcit</th>\n",
       "      <th>BoroCD</th>\n",
       "      <th>Census Tract</th>\n",
       "      <th>BCTCB2010</th>\n",
       "      <th>BIN</th>\n",
       "      <th>BBL</th>\n",
       "      <th>Location</th>\n",
       "    </tr>\n",
       "  </thead>\n",
       "  <tbody>\n",
       "    <tr>\n",
       "      <th>447</th>\n",
       "      <td>450</td>\n",
       "      <td>Department of Youth and Community Development</td>\n",
       "      <td>MMCC (Mosholu Montefiore Community Center, Inc.)</td>\n",
       "      <td>Marble Hill</td>\n",
       "      <td>5365 Broadway</td>\n",
       "      <td>Bronx</td>\n",
       "      <td>NY</td>\n",
       "      <td>10463</td>\n",
       "      <td>40.876526</td>\n",
       "      <td>-73.908063</td>\n",
       "      <td>...</td>\n",
       "      <td>Manhattan</td>\n",
       "      <td>MN01</td>\n",
       "      <td>Marble Hill-Inwood</td>\n",
       "      <td>10</td>\n",
       "      <td>208</td>\n",
       "      <td>30900</td>\n",
       "      <td>10309001000</td>\n",
       "      <td>1082782</td>\n",
       "      <td>1022150623</td>\n",
       "      <td>POINT (-73.908063 40.876526)</td>\n",
       "    </tr>\n",
       "    <tr>\n",
       "      <th>357</th>\n",
       "      <td>380</td>\n",
       "      <td>Department for the Aging</td>\n",
       "      <td>SELFHELP COMMUNITY SERVICES INC</td>\n",
       "      <td>SELFHELP AUSTIN STREET NEIGHBORHOOD SC</td>\n",
       "      <td>106-06 Queens Boulevard</td>\n",
       "      <td>Queens</td>\n",
       "      <td>NY</td>\n",
       "      <td>11375</td>\n",
       "      <td>40.721700</td>\n",
       "      <td>-73.847500</td>\n",
       "      <td>...</td>\n",
       "      <td>Queens</td>\n",
       "      <td>QN17</td>\n",
       "      <td>Forest Hills</td>\n",
       "      <td>29</td>\n",
       "      <td>406</td>\n",
       "      <td>71100</td>\n",
       "      <td>40711004004</td>\n",
       "      <td>4077479</td>\n",
       "      <td>4032370040</td>\n",
       "      <td>POINT (-73.8475 40.7217)</td>\n",
       "    </tr>\n",
       "    <tr>\n",
       "      <th>397</th>\n",
       "      <td>226</td>\n",
       "      <td>Department of Parks and Recreation</td>\n",
       "      <td>Department of Parks and Recreation</td>\n",
       "      <td>Al Oerter</td>\n",
       "      <td>131-40 Fowler Avenue</td>\n",
       "      <td>Flushing</td>\n",
       "      <td>NY</td>\n",
       "      <td>11355</td>\n",
       "      <td>40.751405</td>\n",
       "      <td>-73.833841</td>\n",
       "      <td>...</td>\n",
       "      <td>Queens</td>\n",
       "      <td>QN99</td>\n",
       "      <td>park-cemetery-etc-Queens</td>\n",
       "      <td>20</td>\n",
       "      <td>407</td>\n",
       "      <td>38302</td>\n",
       "      <td>40383021090</td>\n",
       "      <td>4540092</td>\n",
       "      <td>4020180001</td>\n",
       "      <td>POINT (-73.833841 40.751405)</td>\n",
       "    </tr>\n",
       "    <tr>\n",
       "      <th>93</th>\n",
       "      <td>1</td>\n",
       "      <td>New York Public Library</td>\n",
       "      <td>New York Public Library</td>\n",
       "      <td>125th Street</td>\n",
       "      <td>224 East 125th Street</td>\n",
       "      <td>New York</td>\n",
       "      <td>NY</td>\n",
       "      <td>10035</td>\n",
       "      <td>40.803018</td>\n",
       "      <td>-73.934848</td>\n",
       "      <td>...</td>\n",
       "      <td>Manhattan</td>\n",
       "      <td>MN34</td>\n",
       "      <td>East Harlem North</td>\n",
       "      <td>8</td>\n",
       "      <td>111</td>\n",
       "      <td>24200</td>\n",
       "      <td>10242003009</td>\n",
       "      <td>1054674</td>\n",
       "      <td>1017890037</td>\n",
       "      <td>POINT (-73.93484756 40.80301816000001)</td>\n",
       "    </tr>\n",
       "    <tr>\n",
       "      <th>195</th>\n",
       "      <td>302</td>\n",
       "      <td>Department for the Aging</td>\n",
       "      <td>ELMCOR YOUTH &amp; ADULT ACTIVITIES INC</td>\n",
       "      <td>Elmcor's Golden Phoenix Club Two</td>\n",
       "      <td>107-20 Northern Boulevard</td>\n",
       "      <td>Queens</td>\n",
       "      <td>NY</td>\n",
       "      <td>11368</td>\n",
       "      <td>40.757600</td>\n",
       "      <td>-73.861217</td>\n",
       "      <td>...</td>\n",
       "      <td>Queens</td>\n",
       "      <td>QN26</td>\n",
       "      <td>North Corona</td>\n",
       "      <td>21</td>\n",
       "      <td>403</td>\n",
       "      <td>38100</td>\n",
       "      <td>40381001005</td>\n",
       "      <td>4311969</td>\n",
       "      <td>4017220005</td>\n",
       "      <td>POINT (-73.861217 40.7576)</td>\n",
       "    </tr>\n",
       "  </tbody>\n",
       "</table>\n",
       "<p>5 rows × 64 columns</p>\n",
       "</div>"
      ],
      "text/plain": [
       "     OID                               Oversight Agency  \\\n",
       "447  450  Department of Youth and Community Development   \n",
       "357  380                       Department for the Aging   \n",
       "397  226             Department of Parks and Recreation   \n",
       "93     1                        New York Public Library   \n",
       "195  302                       Department for the Aging   \n",
       "\n",
       "                                        Operator Name  \\\n",
       "447  MMCC (Mosholu Montefiore Community Center, Inc.)   \n",
       "357                   SELFHELP COMMUNITY SERVICES INC   \n",
       "397                Department of Parks and Recreation   \n",
       "93                            New York Public Library   \n",
       "195               ELMCOR YOUTH & ADULT ACTIVITIES INC   \n",
       "\n",
       "                              Location Name                    Address  \\\n",
       "447                             Marble Hill              5365 Broadway   \n",
       "357  SELFHELP AUSTIN STREET NEIGHBORHOOD SC    106-06 Queens Boulevard   \n",
       "397                               Al Oerter       131-40 Fowler Avenue   \n",
       "93                             125th Street      224 East 125th Street   \n",
       "195        Elmcor's Golden Phoenix Club Two  107-20 Northern Boulevard   \n",
       "\n",
       "         City State  Postcode   Latitude  Longitude  ...    Borough  NTA Code  \\\n",
       "447     Bronx    NY     10463  40.876526 -73.908063  ...  Manhattan      MN01   \n",
       "357    Queens    NY     11375  40.721700 -73.847500  ...     Queens      QN17   \n",
       "397  Flushing    NY     11355  40.751405 -73.833841  ...     Queens      QN99   \n",
       "93   New York    NY     10035  40.803018 -73.934848  ...  Manhattan      MN34   \n",
       "195    Queens    NY     11368  40.757600 -73.861217  ...     Queens      QN26   \n",
       "\n",
       "                     NTA Name  Council Distrcit  BoroCD Census Tract  \\\n",
       "447        Marble Hill-Inwood                10     208        30900   \n",
       "357              Forest Hills                29     406        71100   \n",
       "397  park-cemetery-etc-Queens                20     407        38302   \n",
       "93          East Harlem North                 8     111        24200   \n",
       "195              North Corona                21     403        38100   \n",
       "\n",
       "       BCTCB2010      BIN         BBL                                Location  \n",
       "447  10309001000  1082782  1022150623            POINT (-73.908063 40.876526)  \n",
       "357  40711004004  4077479  4032370040                POINT (-73.8475 40.7217)  \n",
       "397  40383021090  4540092  4020180001            POINT (-73.833841 40.751405)  \n",
       "93   10242003009  1054674  1017890037  POINT (-73.93484756 40.80301816000001)  \n",
       "195  40381001005  4311969  4017220005              POINT (-73.861217 40.7576)  \n",
       "\n",
       "[5 rows x 64 columns]"
      ]
     },
     "execution_count": 48,
     "metadata": {},
     "output_type": "execute_result"
    }
   ],
   "source": [
    "data.drop([\"Wireline Dwn\", \"Wireline Up\"], axis=1, inplace=True)\n",
    "data.sample(5)\n"
   ]
  },
  {
   "attachments": {},
   "cell_type": "markdown",
   "metadata": {},
   "source": [
    "#### This code saves the munged data to a new CSV file."
   ]
  },
  {
   "cell_type": "code",
   "execution_count": null,
   "metadata": {},
   "outputs": [],
   "source": [
    "data.to_csv(\"data/munged_data.csv\", index=False)\n",
    "data.sample(5)"
   ]
  },
  {
   "cell_type": "markdown",
   "metadata": {},
   "source": [
    "## Data analysis\n",
    "Place your **data analysis** code and documentation within this section.\n",
    "- Perform at least 5 different statistical or other analyses of different aspects of the data.\n",
    "    - Your analyses must be specific and relevant to your chosen data set and show interesting aspects of it.\n",
    "    - Include at least one analysis that includes grouping rows by a shared attribute and performing some kind of statistical analysis on each group.\n",
    "    - Sort the data in at least 1 of your analyses, but sort on its own does not constitute an analysis on its own.\n",
    "- Keep each of your Code cells short and focused on a single task.\n",
    "- Include a Markdown cell above each Code cell that describes what task the code within the Code cell is performing.\n",
    "- Make as many code cells as you need to complete the analysis - a few have been created for you to start with."
   ]
  },
  {
   "attachments": {},
   "cell_type": "markdown",
   "metadata": {},
   "source": [
    "#### Reading the munged file from the data directory to start."
   ]
  },
  {
   "cell_type": "code",
   "execution_count": 63,
   "metadata": {},
   "outputs": [],
   "source": [
    "munged_file=\"data/munged_data.csv\"\n",
    "df = pd.read_csv(munged_file)\n"
   ]
  },
  {
   "attachments": {},
   "cell_type": "markdown",
   "metadata": {},
   "source": [
    "#### This code is grouping by Borough and counting the number of public computer centers in each Borough, while also sorting the results from high to low to show which borough has the most centers."
   ]
  },
  {
   "cell_type": "code",
   "execution_count": null,
   "metadata": {},
   "outputs": [],
   "source": [
    "centers_by_borough = df.groupby('Borough')['Location Name'].count().sort_values(ascending=False)\n",
    "centers_by_borough\n"
   ]
  },
  {
   "attachments": {},
   "cell_type": "markdown",
   "metadata": {},
   "source": [
    "#### This code displays data on accesibility in Brooklyn Computer Centers, where 'Y' is yes, 'N' is no, and 'Partially' is, well, partially."
   ]
  },
  {
   "cell_type": "code",
   "execution_count": 120,
   "metadata": {},
   "outputs": [
    {
     "data": {
      "text/plain": [
       "Wheelchair Accessible\n",
       "Y            133\n",
       "N              6\n",
       "Partially      4\n",
       "Name: count, dtype: int64"
      ]
     },
     "execution_count": 120,
     "metadata": {},
     "output_type": "execute_result"
    }
   ],
   "source": [
    "brooklyn_data = df[df['Borough'] == 'Brooklyn']\n",
    "\n",
    "wheelchair_counts = brooklyn_data['Wheelchair Accessible'].value_counts()\n",
    "wheelchair_counts\n"
   ]
  },
  {
   "attachments": {},
   "cell_type": "markdown",
   "metadata": {},
   "source": [
    "#### To find available gaming consoles, this code uses the str.contains() method to filter rows where the \"Supplementary Equipment\" column contains the substring \"gaming\". It then lists out the borough, address, and complete list of the location's Supplementary Equipment."
   ]
  },
  {
   "cell_type": "code",
   "execution_count": null,
   "metadata": {},
   "outputs": [],
   "source": [
    "gaming_equipment_data = df[df['Supplementary Equipment'].str.contains('gaming', case=False, na=False)]\n",
    "\n",
    "for index, row in gaming_equipment_data.iterrows():\n",
    "    address = row['Address']\n",
    "    borough = row['Borough']\n",
    "    equipment_list = row['Supplementary Equipment']\n",
    "    \n",
    "    print(f\"Address: {address}, Borough: {borough}\")\n",
    "    print(f\"Supplementary Equipment: {equipment_list}\")\n",
    "    print(\"-\" * 50) \n",
    "\n",
    "\n"
   ]
  },
  {
   "attachments": {},
   "cell_type": "markdown",
   "metadata": {},
   "source": [
    "#### This code displays the total number of workstations available across all centers."
   ]
  },
  {
   "cell_type": "code",
   "execution_count": 67,
   "metadata": {},
   "outputs": [
    {
     "data": {
      "text/plain": [
       "11501"
      ]
     },
     "execution_count": 67,
     "metadata": {},
     "output_type": "execute_result"
    }
   ],
   "source": [
    "total_workstations = df['Workstation #'].sum()\n",
    "\n",
    "total_workstations"
   ]
  },
  {
   "attachments": {},
   "cell_type": "markdown",
   "metadata": {},
   "source": [
    "#### This code shows the average Wi-Fi download speeds by borough."
   ]
  },
  {
   "cell_type": "code",
   "execution_count": 106,
   "metadata": {},
   "outputs": [
    {
     "data": {
      "text/plain": [
       "Borough\n",
       "Manhattan        367.087379\n",
       "Bronx            172.876543\n",
       "Staten Island     82.954545\n",
       "Brooklyn          71.500000\n",
       "Queens            58.700000\n",
       "Name: WiFi Dwn, dtype: float64"
      ]
     },
     "execution_count": 106,
     "metadata": {},
     "output_type": "execute_result"
    }
   ],
   "source": [
    "avg_wifi_speeds_by_borough = df.groupby('Borough')['WiFi Dwn'].mean().sort_values(ascending=False)\n",
    "avg_wifi_speeds_by_borough"
   ]
  },
  {
   "attachments": {},
   "cell_type": "markdown",
   "metadata": {},
   "source": [
    "#### This code shows the average training hours per week for each borough."
   ]
  },
  {
   "cell_type": "code",
   "execution_count": 107,
   "metadata": {},
   "outputs": [
    {
     "data": {
      "text/plain": [
       "Borough\n",
       "Manhattan        5.949573\n",
       "Staten Island    5.644000\n",
       "Bronx            5.321053\n",
       "Brooklyn         5.298601\n",
       "Queens           3.719531\n",
       "Name: Training  Hours Per Wk, dtype: float64"
      ]
     },
     "execution_count": 107,
     "metadata": {},
     "output_type": "execute_result"
    }
   ],
   "source": [
    "avg_training_hours = df.groupby('Borough')['Training  Hours Per Wk'].mean().sort_values(ascending=False)\n",
    "avg_training_hours"
   ]
  },
  {
   "cell_type": "markdown",
   "metadata": {},
   "source": [
    "## Data visualization\n",
    "In this section, you will create a few **visualizations** that show some of the insights you have gathered from this data.\n",
    "- Create at least 5 different visualizations, where each visualization shows different insights into the data.\n",
    "- Use at least 3 different visualization types (e.g. bar charts, line charts, stacked area charts, pie charts, etc)\n",
    "- Create a Markdown cell and a Code cell for each, where you explain and show the visualizations, respectively.\n",
    "- Create as many additional cells as you need to prepare the data for the visualizations."
   ]
  },
  {
   "attachments": {},
   "cell_type": "markdown",
   "metadata": {},
   "source": [
    "#### Before I start the visualization code for number of centers by borough, I must define the operation below."
   ]
  },
  {
   "cell_type": "code",
   "execution_count": 108,
   "metadata": {},
   "outputs": [],
   "source": [
    "centers_by_borough = df['Borough'].value_counts()\n"
   ]
  },
  {
   "attachments": {},
   "cell_type": "markdown",
   "metadata": {},
   "source": [
    "#### Below is the visualization code for Number of Centers by Borough."
   ]
  },
  {
   "cell_type": "code",
   "execution_count": 110,
   "metadata": {},
   "outputs": [
    {
     "data": {
      "image/png": "[encoded data removed]",
      "text/plain": [
       "<Figure size 640x480 with 1 Axes>"
      ]
     },
     "metadata": {},
     "output_type": "display_data"
    }
   ],
   "source": [
    "centers_by_borough.plot(kind='bar', color='skyblue')\n",
    "plt.title('Number of Centers by Borough')\n",
    "plt.xlabel('Borough')\n",
    "plt.ylabel('Number of Centers')\n",
    "plt.show()"
   ]
  },
  {
   "attachments": {},
   "cell_type": "markdown",
   "metadata": {},
   "source": [
    "#### Distribution of Wheelchair Accesible Centers in NYC: counting with value_counts()."
   ]
  },
  {
   "cell_type": "code",
   "execution_count": 118,
   "metadata": {},
   "outputs": [],
   "source": [
    "wheelchair_counts = df['Wheelchair Accessible'].value_counts()\n"
   ]
  },
  {
   "attachments": {},
   "cell_type": "markdown",
   "metadata": {},
   "source": [
    "#### This is the code for the pie chart visualization of the distribution."
   ]
  },
  {
   "cell_type": "code",
   "execution_count": 122,
   "metadata": {},
   "outputs": [
    {
     "data": {
      "image/png": "[encoded data removed]",
      "text/plain": [
       "<Figure size 640x480 with 1 Axes>"
      ]
     },
     "metadata": {},
     "output_type": "display_data"
    }
   ],
   "source": [
    "wheelchair_counts.plot(kind='pie', autopct='%1.1f%%', colors=['lightgreen', 'lightcoral', 'lightblue'])\n",
    "plt.title('Distribution of Wheelchair Accessible Centers')\n",
    "plt.show()\n"
   ]
  },
  {
   "attachments": {},
   "cell_type": "markdown",
   "metadata": {},
   "source": [
    "#### To find the top 5 largest oversight agencies, I am using .value_counts() and .nlargest(5)."
   ]
  },
  {
   "cell_type": "code",
   "execution_count": 126,
   "metadata": {},
   "outputs": [],
   "source": [
    "top_agencies = df['Oversight Agency'].value_counts().nlargest(5)\n"
   ]
  },
  {
   "attachments": {},
   "cell_type": "markdown",
   "metadata": {},
   "source": [
    "#### This is a horizontal bar chart of the top 5 largest oversight agencies."
   ]
  },
  {
   "cell_type": "code",
   "execution_count": 127,
   "metadata": {},
   "outputs": [
    {
     "data": {
      "image/png": "[encoded data removed]",
      "text/plain": [
       "<Figure size 640x480 with 1 Axes>"
      ]
     },
     "metadata": {},
     "output_type": "display_data"
    }
   ],
   "source": [
    "top_agencies.plot(kind='barh', color='purple')\n",
    "plt.title('Top 5 Oversight Agencies')\n",
    "plt.xlabel('Number of Centers')\n",
    "plt.ylabel('Oversight Agency')\n",
    "plt.show()"
   ]
  },
  {
   "attachments": {},
   "cell_type": "markdown",
   "metadata": {},
   "source": [
    "#### I am using matplotlib.pyplot as plt to create a density plot for the column of 'WiFi Dwn', showing the distribution and concentration of Wi-Fi download speeds."
   ]
  },
  {
   "cell_type": "code",
   "execution_count": 134,
   "metadata": {},
   "outputs": [
    {
     "data": {
      "image/png": "[encoded data removed]",
      "text/plain": [
       "<Figure size 640x480 with 1 Axes>"
      ]
     },
     "metadata": {},
     "output_type": "display_data"
    }
   ],
   "source": [
    "df['WiFi Dwn'].plot(kind='density', color='orange')\n",
    "plt.title('Density of Wi-Fi Download Speeds')\n",
    "plt.xlabel('Wi-Fi Download Speed (Mbps)')\n",
    "plt.ylabel('Density')\n",
    "plt.show()"
   ]
  },
  {
   "attachments": {},
   "cell_type": "markdown",
   "metadata": {},
   "source": [
    "#### WiFi Download/Upload Speeds Scatter Plot: first, I'll define the variables to extract information from the correct columns."
   ]
  },
  {
   "cell_type": "code",
   "execution_count": 136,
   "metadata": {},
   "outputs": [],
   "source": [
    "wifi_download = df['WiFi Dwn']\n",
    "wifi_upload = df['WiFi Up']"
   ]
  },
  {
   "attachments": {},
   "cell_type": "markdown",
   "metadata": {},
   "source": [
    "#### This code creates a scatter plot with WiFi download speeds on the x-axis and WiFi upload speeds on the y-axis, with the points on the plot representing different locations. "
   ]
  },
  {
   "cell_type": "code",
   "execution_count": 137,
   "metadata": {},
   "outputs": [
    {
     "data": {
      "image/png": "[encoded data removed]",
      "text/plain": [
       "<Figure size 1000x600 with 1 Axes>"
      ]
     },
     "metadata": {},
     "output_type": "display_data"
    }
   ],
   "source": [
    "plt.figure(figsize=(10, 6))\n",
    "plt.scatter(wifi_download, wifi_upload, color='blue', alpha=0.7)\n",
    "plt.title('WiFi Download vs Upload Speeds')\n",
    "plt.xlabel('WiFi Download Speed (Mbps)')\n",
    "plt.ylabel('WiFi Upload Speed (Mbps)')\n",
    "plt.grid(True)\n",
    "plt.show()"
   ]
  }
 ],
 "metadata": {
  "kernelspec": {
   "display_name": "Python 3",
   "language": "python",
   "name": "python3"
  },
  "language_info": {
   "codemirror_mode": {
    "name": "ipython",
    "version": 3
   },
   "file_extension": ".py",
   "mimetype": "text/x-python",
   "name": "python",
   "nbconvert_exporter": "python",
   "pygments_lexer": "ipython3",
   "version": "3.10.7"
  },
  "vscode": {
   "interpreter": {
    "hash": "aee8b7b246df8f9039afb4144a1f6fd8d2ca17a180786b69acc140d282b71a49"
   }
  }
 },
 "nbformat": 4,
 "nbformat_minor": 4
}
